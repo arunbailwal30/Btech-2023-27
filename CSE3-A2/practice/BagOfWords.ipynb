{
 "cells": [
  {
   "cell_type": "code",
   "execution_count": 5,
   "id": "c0e62f4d-071c-4800-8742-9ee0572988b8",
   "metadata": {},
   "outputs": [],
   "source": [
    "import nltk\n",
    "\n",
    "paragraph=\"\"\"In India, Children’s Day is celebrated on 14th November every year to commemorate the birth anniversary of our first Prime Minister, \n",
    "Pandit Jawaharlal Nehru. He loved children dearly and is fondly remembered as Chacha Nehru by them. After his death in 1964, his birthday was declared \n",
    "as Children’s Day nationwide.Pandit Nehru was very fond of kids and advocated children’s education as he strongly believed that they were the future \n",
    "leaders of the nation. He was a strong believer of instilling rich moral virtues in children. He was of the opinion that children should be moulded \n",
    "from a young age properly so that they can become productive and responsible citizens of the country.On this special day, most schools across the \n",
    "country celebrate it by organising socio-cultural programmes for children. Some of the events include poetry, recitation, fancy dress competition, \n",
    "singing and dancing events, skits and plays for children. Besides refreshments, kids are also gifted toys, clothes, stationery, chocolates, toffees \n",
    "and other interesting goodies. Sometimes, they also watch child-friendly films and shows.Children’s Day, therefore, emphasises the importance of \n",
    "showering love and affection to each child. It is celebrated with great fervour and enthusiasm across the country. Every child cherishes this day \n",
    "as they get to enjoy it to the fullest. It is important to remember that this special occasion is celebrated to take Pandit Nehru’s dream of \n",
    "providing quality education to each child so that they can become the future building blocks of the nation and contribute towards the greater \n",
    "benefit of the society.\"\"\""
   ]
  },
  {
   "cell_type": "code",
   "execution_count": 13,
   "id": "bf5db468-33fb-4af1-9db6-14b7199c65be",
   "metadata": {},
   "outputs": [],
   "source": [
    "#cleaning the texts\n",
    "import re\n",
    "from nltk.corpus import stopwords\n",
    "from nltk.stem.porter import PorterStemmer\n",
    "from nltk.stem import WordNetLemmatizer"
   ]
  },
  {
   "cell_type": "code",
   "execution_count": 5,
   "id": "46574596-ae75-4a4b-943f-783fb471370a",
   "metadata": {},
   "outputs": [],
   "source": [
    "ps=PorterStemmer()\n",
    "wordnet=WordNetLemmatizer()"
   ]
  },
  {
   "cell_type": "code",
   "execution_count": 7,
   "id": "e2c4b50b-28d7-4f83-a946-2249478352ab",
   "metadata": {},
   "outputs": [],
   "source": [
    "sentences=nltk.sent_tokenize(paragraph)\n",
    "corpus=[]\n",
    "for i in range (len(sentences)):\n",
    "    review = re.sub('[^a-zA-Z]',' ',sentences[i])       # ^ means not,repalce everything(junk characters) with space except a-z,A-Z \n",
    "    review = review.lower()                            #convert upper to lower case\n",
    "    review = review.split()                            #split sentences into words\n",
    "    review = [ps.stem(word) for word in review if not word in set(stopwords.words('english'))]\n",
    "    review = ' '.join(review)\n",
    "    corpus.append(review)"
   ]
  },
  {
   "cell_type": "code",
   "execution_count": 10,
   "id": "5ee01fb6-174b-41b4-b0d2-bd213af15374",
   "metadata": {},
   "outputs": [],
   "source": [
    "#creating the Bag of Words model  \n",
    "\n",
    "from sklearn.feature_extraction.text import CountVectorizer\n",
    "cv=CountVectorizer(max_features=1500)\n",
    "X=cv.fit_transform(corpus).toarray()"
   ]
  },
  {
   "cell_type": "code",
   "execution_count": 4,
   "id": "783a1021",
   "metadata": {},
   "outputs": [],
   "source": [
    "from gensim.models import Word2Vec"
   ]
  },
  {
   "cell_type": "code",
   "execution_count": null,
   "id": "b8332315-d339-4cff-9611-62665b21ec65",
   "metadata": {},
   "outputs": [],
   "source": []
  }
 ],
 "metadata": {
  "kernelspec": {
   "display_name": "Python 3",
   "language": "python",
   "name": "python3"
  },
  "language_info": {
   "codemirror_mode": {
    "name": "ipython",
    "version": 3
   },
   "file_extension": ".py",
   "mimetype": "text/x-python",
   "name": "python",
   "nbconvert_exporter": "python",
   "pygments_lexer": "ipython3",
   "version": "3.12.4"
  }
 },
 "nbformat": 4,
 "nbformat_minor": 5
}
